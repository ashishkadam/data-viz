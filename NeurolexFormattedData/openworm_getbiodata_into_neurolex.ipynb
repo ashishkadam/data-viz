{
 "metadata": {
  "name": "openworm_getbiodata_into_neurolex"
 },
 "nbformat": 3,
 "nbformat_minor": 0,
 "worksheets": [
  {
   "cells": [
    {
     "cell_type": "code",
     "collapsed": false,
     "input": [
      "import openpyxl, csv\n",
      "CUfname = 'NeuroLex Cell Upload Template.xlsx'\n",
      "biodatfname = 'neuron_transmitter_peptide_data_July2013.xlsx'"
     ],
     "language": "python",
     "metadata": {},
     "outputs": [],
     "prompt_number": 243
    },
    {
     "cell_type": "code",
     "collapsed": false,
     "input": [
      "def dictfromsheet(sheet):\n",
      "    #from here: http://quuux.org/code/xlsx-dict-reader.py/\n",
      "    rows = sheet.get_highest_row()\n",
      "    cols = sheet.get_highest_column()\n",
      "\n",
      "    headers = dict( (i, sheet.cell(row=0, column=i).value) \\\n",
      "                               for i in range(cols) )\n",
      " \n",
      "    #headers = list( (sheet.cell(row=0, column=i).value) for i in range(cols) )\n",
      "    \n",
      "    def item(i, j):\n",
      "        return (sheet.cell(row=0, column=j).value,\n",
      "                sheet.cell(row=i, column=j).value)\n",
      " \n",
      "    return (dict(item(i,j) for j in range(cols)) for i in range(1, rows)), headers\n",
      " "
     ],
     "language": "python",
     "metadata": {},
     "outputs": [],
     "prompt_number": 244
    },
    {
     "cell_type": "code",
     "collapsed": false,
     "input": [
      "with open(CUfname, 'rb') as f:\n",
      "    tempbk = openpyxl.load_workbook(f)\n",
      "    tempsheet = tempbk.get_sheet_by_name(name = 'Sheet1')"
     ],
     "language": "python",
     "metadata": {},
     "outputs": [],
     "prompt_number": 245
    },
    {
     "cell_type": "code",
     "collapsed": false,
     "input": [
      "CUtempdat = []\n",
      "CUdat, CUtemplate_headers = dictfromsheet(tempsheet)\n",
      "for rown, row in enumerate(CUdat):\n",
      "    CUtempdat.append(row)"
     ],
     "language": "python",
     "metadata": {},
     "outputs": [],
     "prompt_number": 246
    },
    {
     "cell_type": "code",
     "collapsed": false,
     "input": [
      "with open(biodatfname, 'rb') as f:\n",
      "    biodatbk = openpyxl.load_workbook(f)\n",
      "    biodat_sheetnames = biodatbk.get_sheet_names()\n",
      "    #tempsheet = tempbk.get_sheet_by_name(name = 'Sheet1')"
     ],
     "language": "python",
     "metadata": {},
     "outputs": [],
     "prompt_number": 247
    },
    {
     "cell_type": "code",
     "collapsed": false,
     "input": [
      "Neurondat = []\n",
      "sheetnum = 0\n",
      "currdat, currheaders = dictfromsheet(datbk.get_sheet_by_name(name = biodat_sheetnames[sheetnum]))\n",
      "for rown, row in enumerate(currdat):\n",
      "    Neurondat.append(row)"
     ],
     "language": "python",
     "metadata": {},
     "outputs": [],
     "prompt_number": 267
    },
    {
     "cell_type": "code",
     "collapsed": false,
     "input": [
      "NLX_data = [];\n",
      "NLX_headers = CUtemplate_headers.values()\n",
      "#NLX_headers.append(u'nametoappend')\n",
      "for row in Neurondat:\n",
      "    row_out = row\n",
      "    \n",
      "    #remap sub and superregions with name_lookup\n",
      "     #row_out['superregion'] = name_lookup[row_out['superregion']]\n",
      "     #row_out['subregion(s)'] = ','.join([name_lookup[x.strip()] for x in row_out['subregion(s)'].split(',')])\n",
      "    \n",
      "    #rename misnamed columns  eg: row_out['newname'] = row_out.pop('oldname')\n",
      "    row_out['Label'] = row_out.pop('Neuron')\n",
      "    row_out['Has role'] = row_out.pop('Type')\n",
      "    row_out['Located in'] = row_out.pop('Location')\n",
      "    row_out['Definition'] = row_out.pop('Description')\n",
      "    row_out['Neurotransmitter'] = row_out.pop('Neurotransmitter/Neuropeptide')\n",
      "    ie = row_out.pop('Innexin Expression');\n",
      "    if ie is None:\n",
      "        ie = ''\n",
      "    re = row_out.pop('Receptor expression');\n",
      "    if re is None:\n",
      "        re = ''\n",
      "    try:\n",
      "        row_out['MolecularConstituents'] = 'Innexin Expression: ' + ie + '   Receptor Expression: ' + re\n",
      "    except:\n",
      "        print 'nope'\n",
      "        print type(ie)\n",
      "        print ie\n",
      "    row_out['Comment'] = row_out.pop('Function')\n",
      "    \n",
      "    \n",
      "    #add manual data - also add to NLX_headers above\n",
      "    row_out['SuperCategory'] = 'OpenWorm 2013 Parcel'\n",
      "    row_out['Species'] = 'Caenorhabditis_elegans'\n",
      "    \n",
      "    #delete unwanted columns\n",
      "    #del row_out['nameofunwantedcolumn']\n",
      "    \n",
      "    NLX_data.append(row_out)"
     ],
     "language": "python",
     "metadata": {},
     "outputs": [],
     "prompt_number": 268
    },
    {
     "cell_type": "code",
     "collapsed": false,
     "input": [
      "with open('NLX_formatted.csv', \"wb\") as ofile:\n",
      "    cw = csv.DictWriter(ofile, fieldnames=NLX_headers, delimiter=',', quoting=csv.QUOTE_ALL) #need to manually include fieldnames\n",
      "    cw.writeheader()\n",
      "    \n",
      "    for rown, row in enumerate(NLX_data):\n",
      "        try:\n",
      "            #cw.writerow(row)\n",
      "            cw.writerow(dict((k, v.encode('utf-8') if isinstance(v, unicode) else v) for k, v in row.iteritems())) #http://stackoverflow.com/questions/5838605/python-dictwriter-writing-utf-8-encoded-csv-files#comment6706041_5838817\n",
      "        except:\n",
      "            print rown\n",
      "            print sys.exc_info()[0]              \n",
      "            print sys.exc_info()[1]"
     ],
     "language": "python",
     "metadata": {},
     "outputs": [],
     "prompt_number": 270
    },
    {
     "cell_type": "code",
     "collapsed": false,
     "input": [],
     "language": "python",
     "metadata": {},
     "outputs": []
    }
   ],
   "metadata": {}
  }
 ]
}